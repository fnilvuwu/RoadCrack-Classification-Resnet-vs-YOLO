{
  "cells": [
    {
      "cell_type": "code",
      "execution_count": 1,
      "metadata": {
        "id": "0YBEz670Nnmv"
      },
      "outputs": [
        {
          "name": "stderr",
          "output_type": "stream",
          "text": [
            "2024-05-24 21:37:43.168946: I tensorflow/core/platform/cpu_feature_guard.cc:210] This TensorFlow binary is optimized to use available CPU instructions in performance-critical operations.\n",
            "To enable the following instructions: AVX2 FMA, in other operations, rebuild TensorFlow with the appropriate compiler flags.\n",
            "2024-05-24 21:37:46.021376: W tensorflow/compiler/tf2tensorrt/utils/py_utils.cc:38] TF-TRT Warning: Could not find TensorRT\n"
          ]
        }
      ],
      "source": [
        "import matplotlib.pyplot as plt\n",
        "import numpy as np\n",
        "import PIL\n",
        "import tensorflow as tf\n",
        "from tensorflow import keras\n",
        "from tensorflow.keras import layers\n",
        "from tensorflow.python.keras.layers import Dense, Flatten\n",
        "from tensorflow.keras.models import Sequential\n",
        "from tensorflow.keras.optimizers import Adam\n",
        "from tensorflow.keras.preprocessing.image import ImageDataGenerator"
      ]
    },
    {
      "cell_type": "code",
      "execution_count": 2,
      "metadata": {},
      "outputs": [
        {
          "data": {
            "text/plain": [
              "[PhysicalDevice(name='/physical_device:GPU:0', device_type='GPU')]"
            ]
          },
          "execution_count": 2,
          "metadata": {},
          "output_type": "execute_result"
        }
      ],
      "source": [
        "import tensorflow as tf\n",
        "tf.config.list_physical_devices('GPU')"
      ]
    },
    {
      "cell_type": "code",
      "execution_count": 3,
      "metadata": {},
      "outputs": [],
      "source": [
        "# ImageDataGenerator untuk augmentasi dan preprocessing data training\n",
        "train_datagen = ImageDataGenerator(\n",
        "    rescale=1./255,\n",
        "    shear_range=0.2,\n",
        "    zoom_range=0.2,\n",
        "    horizontal_flip=True,\n",
        "    rotation_range=30,\n",
        "    width_shift_range=0.2,\n",
        "    height_shift_range=0.2\n",
        ")"
      ]
    },
    {
      "cell_type": "code",
      "execution_count": 4,
      "metadata": {},
      "outputs": [],
      "source": [
        "valid_datagen = ImageDataGenerator(\n",
        "    rescale=1./255\n",
        ")"
      ]
    },
    {
      "cell_type": "markdown",
      "metadata": {
        "id": "Ir0q0GyfgmSI"
      },
      "source": [
        "# Preparing The Data"
      ]
    },
    {
      "cell_type": "code",
      "execution_count": 5,
      "metadata": {
        "colab": {
          "base_uri": "https://localhost:8080/"
        },
        "id": "P68Vb_6lcqKG",
        "outputId": "55c1bcd9-a474-4de4-df61-56603c17322d"
      },
      "outputs": [
        {
          "name": "stdout",
          "output_type": "stream",
          "text": [
            "Found 4216 images belonging to 3 classes.\n"
          ]
        }
      ],
      "source": [
        "img_height,img_width=224,224\n",
        "batch_size=32\n",
        "train_ds = train_datagen.flow_from_directory(\n",
        "  \"preprocessed_images/train\",\n",
        "  seed=123,\n",
        "  class_mode='categorical',\n",
        "  target_size=(img_height, img_width),\n",
        "  batch_size=batch_size)\n"
      ]
    },
    {
      "cell_type": "code",
      "execution_count": 6,
      "metadata": {
        "colab": {
          "base_uri": "https://localhost:8080/"
        },
        "id": "VA-1Jqlscs-Y",
        "outputId": "faf33d40-f0bb-41fd-ad31-b686bfcb8a0c"
      },
      "outputs": [
        {
          "name": "stdout",
          "output_type": "stream",
          "text": [
            "Found 465 images belonging to 3 classes.\n"
          ]
        }
      ],
      "source": [
        "val_ds = valid_datagen.flow_from_directory(\n",
        "  \"preprocessed_images/val\",\n",
        "  seed=123,\n",
        "  class_mode='categorical',\n",
        "  target_size=(img_height, img_width),\n",
        "  batch_size=batch_size)"
      ]
    },
    {
      "cell_type": "code",
      "execution_count": 7,
      "metadata": {
        "colab": {
          "base_uri": "https://localhost:8080/"
        },
        "id": "Ytv1zV7UcvPY",
        "outputId": "2ca14dae-d4ab-4987-b0a6-7bb837f6cb6b"
      },
      "outputs": [
        {
          "name": "stdout",
          "output_type": "stream",
          "text": [
            "Class names: ['crack', 'good', 'pothole']\n"
          ]
        }
      ],
      "source": [
        "class_names = list(train_ds.class_indices.keys())\n",
        "print(\"Class names:\", class_names)"
      ]
    },
    {
      "cell_type": "code",
      "execution_count": null,
      "metadata": {
        "colab": {
          "base_uri": "https://localhost:8080/",
          "height": 557
        },
        "id": "MBOMNKFL1tPv",
        "outputId": "2d9ea3b4-914a-4f1a-9d64-49b59d7b199c"
      },
      "outputs": [],
      "source": [
        "import numpy as np\n",
        "import matplotlib.pyplot as plt\n",
        "\n",
        "# Load a batch of images and labels from the training dataset\n",
        "images, labels = next(train_ds)\n",
        "\n",
        "plt.figure(figsize=(10, 10))\n",
        "for i in range(6):\n",
        "    ax = plt.subplot(3, 3, i + 1)\n",
        "    plt.imshow(images[i].astype(\"uint8\"))\n",
        "\n",
        "    # Convert one-hot encoded label to integer\n",
        "    label_int = np.argmax(labels[i])\n",
        "    plt.title(class_names[label_int])\n",
        "    plt.axis(\"off\")\n",
        "\n",
        "plt.show()"
      ]
    },
    {
      "cell_type": "markdown",
      "metadata": {
        "id": "jK5tHnEpggbu"
      },
      "source": [
        "# Training The Model\n"
      ]
    },
    {
      "cell_type": "code",
      "execution_count": 9,
      "metadata": {
        "id": "0AzdT8-Ya_lO"
      },
      "outputs": [
        {
          "name": "stderr",
          "output_type": "stream",
          "text": [
            "2024-05-24 22:04:10.407465: I tensorflow/core/common_runtime/gpu/gpu_device.cc:1928] Created device /job:localhost/replica:0/task:0/device:GPU:0 with 3503 MB memory:  -> device: 0, name: NVIDIA GeForce GTX 950M, pci bus id: 0000:01:00.0, compute capability: 5.0\n"
          ]
        },
        {
          "data": {
            "text/html": [
              "<pre style=\"white-space:pre;overflow-x:auto;line-height:normal;font-family:Menlo,'DejaVu Sans Mono',consolas,'Courier New',monospace\"><span style=\"font-weight: bold\">Model: \"sequential\"</span>\n",
              "</pre>\n"
            ],
            "text/plain": [
              "\u001b[1mModel: \"sequential\"\u001b[0m\n"
            ]
          },
          "metadata": {},
          "output_type": "display_data"
        },
        {
          "data": {
            "text/html": [
              "<pre style=\"white-space:pre;overflow-x:auto;line-height:normal;font-family:Menlo,'DejaVu Sans Mono',consolas,'Courier New',monospace\">┏━━━━━━━━━━━━━━━━━━━━━━━━━━━━━━━━━┳━━━━━━━━━━━━━━━━━━━━━━━━┳━━━━━━━━━━━━━━━┓\n",
              "┃<span style=\"font-weight: bold\"> Layer (type)                    </span>┃<span style=\"font-weight: bold\"> Output Shape           </span>┃<span style=\"font-weight: bold\">       Param # </span>┃\n",
              "┡━━━━━━━━━━━━━━━━━━━━━━━━━━━━━━━━━╇━━━━━━━━━━━━━━━━━━━━━━━━╇━━━━━━━━━━━━━━━┩\n",
              "│ resnet50 (<span style=\"color: #0087ff; text-decoration-color: #0087ff\">Functional</span>)           │ ?                      │    <span style=\"color: #00af00; text-decoration-color: #00af00\">23,587,712</span> │\n",
              "├─────────────────────────────────┼────────────────────────┼───────────────┤\n",
              "│ flatten (<span style=\"color: #0087ff; text-decoration-color: #0087ff\">Flatten</span>)               │ ?                      │   <span style=\"color: #00af00; text-decoration-color: #00af00\">0</span> (unbuilt) │\n",
              "├─────────────────────────────────┼────────────────────────┼───────────────┤\n",
              "│ dense (<span style=\"color: #0087ff; text-decoration-color: #0087ff\">Dense</span>)                   │ ?                      │   <span style=\"color: #00af00; text-decoration-color: #00af00\">0</span> (unbuilt) │\n",
              "├─────────────────────────────────┼────────────────────────┼───────────────┤\n",
              "│ dense_1 (<span style=\"color: #0087ff; text-decoration-color: #0087ff\">Dense</span>)                 │ ?                      │   <span style=\"color: #00af00; text-decoration-color: #00af00\">0</span> (unbuilt) │\n",
              "└─────────────────────────────────┴────────────────────────┴───────────────┘\n",
              "</pre>\n"
            ],
            "text/plain": [
              "┏━━━━━━━━━━━━━━━━━━━━━━━━━━━━━━━━━┳━━━━━━━━━━━━━━━━━━━━━━━━┳━━━━━━━━━━━━━━━┓\n",
              "┃\u001b[1m \u001b[0m\u001b[1mLayer (type)                   \u001b[0m\u001b[1m \u001b[0m┃\u001b[1m \u001b[0m\u001b[1mOutput Shape          \u001b[0m\u001b[1m \u001b[0m┃\u001b[1m \u001b[0m\u001b[1m      Param #\u001b[0m\u001b[1m \u001b[0m┃\n",
              "┡━━━━━━━━━━━━━━━━━━━━━━━━━━━━━━━━━╇━━━━━━━━━━━━━━━━━━━━━━━━╇━━━━━━━━━━━━━━━┩\n",
              "│ resnet50 (\u001b[38;5;33mFunctional\u001b[0m)           │ ?                      │    \u001b[38;5;34m23,587,712\u001b[0m │\n",
              "├─────────────────────────────────┼────────────────────────┼───────────────┤\n",
              "│ flatten (\u001b[38;5;33mFlatten\u001b[0m)               │ ?                      │   \u001b[38;5;34m0\u001b[0m (unbuilt) │\n",
              "├─────────────────────────────────┼────────────────────────┼───────────────┤\n",
              "│ dense (\u001b[38;5;33mDense\u001b[0m)                   │ ?                      │   \u001b[38;5;34m0\u001b[0m (unbuilt) │\n",
              "├─────────────────────────────────┼────────────────────────┼───────────────┤\n",
              "│ dense_1 (\u001b[38;5;33mDense\u001b[0m)                 │ ?                      │   \u001b[38;5;34m0\u001b[0m (unbuilt) │\n",
              "└─────────────────────────────────┴────────────────────────┴───────────────┘\n"
            ]
          },
          "metadata": {},
          "output_type": "display_data"
        },
        {
          "data": {
            "text/html": [
              "<pre style=\"white-space:pre;overflow-x:auto;line-height:normal;font-family:Menlo,'DejaVu Sans Mono',consolas,'Courier New',monospace\"><span style=\"font-weight: bold\"> Total params: </span><span style=\"color: #00af00; text-decoration-color: #00af00\">23,587,712</span> (89.98 MB)\n",
              "</pre>\n"
            ],
            "text/plain": [
              "\u001b[1m Total params: \u001b[0m\u001b[38;5;34m23,587,712\u001b[0m (89.98 MB)\n"
            ]
          },
          "metadata": {},
          "output_type": "display_data"
        },
        {
          "data": {
            "text/html": [
              "<pre style=\"white-space:pre;overflow-x:auto;line-height:normal;font-family:Menlo,'DejaVu Sans Mono',consolas,'Courier New',monospace\"><span style=\"font-weight: bold\"> Trainable params: </span><span style=\"color: #00af00; text-decoration-color: #00af00\">0</span> (0.00 B)\n",
              "</pre>\n"
            ],
            "text/plain": [
              "\u001b[1m Trainable params: \u001b[0m\u001b[38;5;34m0\u001b[0m (0.00 B)\n"
            ]
          },
          "metadata": {},
          "output_type": "display_data"
        },
        {
          "data": {
            "text/html": [
              "<pre style=\"white-space:pre;overflow-x:auto;line-height:normal;font-family:Menlo,'DejaVu Sans Mono',consolas,'Courier New',monospace\"><span style=\"font-weight: bold\"> Non-trainable params: </span><span style=\"color: #00af00; text-decoration-color: #00af00\">23,587,712</span> (89.98 MB)\n",
              "</pre>\n"
            ],
            "text/plain": [
              "\u001b[1m Non-trainable params: \u001b[0m\u001b[38;5;34m23,587,712\u001b[0m (89.98 MB)\n"
            ]
          },
          "metadata": {},
          "output_type": "display_data"
        }
      ],
      "source": [
        "from tensorflow.keras.models import Sequential\n",
        "from tensorflow.keras.layers import Flatten, Dense\n",
        "\n",
        "# Define the Sequential model\n",
        "resnet_model = Sequential()\n",
        "\n",
        "# Load the pretrained ResNet50 model without the top layer\n",
        "pretrained_model = tf.keras.applications.ResNet50(include_top=False,\n",
        "                   input_shape=(224,224,3),\n",
        "                   weights='imagenet')\n",
        "\n",
        "# Freeze the layers in the pretrained model\n",
        "for layer in pretrained_model.layers:\n",
        "    layer.trainable = False\n",
        "\n",
        "# Add the pretrained ResNet50 model to the Sequential model\n",
        "resnet_model.add(pretrained_model)\n",
        "\n",
        "# Add Flatten, Dense, and other layers\n",
        "resnet_model.add(Flatten())\n",
        "resnet_model.add(Dense(512, activation='relu'))\n",
        "resnet_model.add(Dense(3, activation='softmax'))\n",
        "\n",
        "# Print the model summary\n",
        "resnet_model.summary()\n"
      ]
    },
    {
      "cell_type": "code",
      "execution_count": 10,
      "metadata": {
        "id": "vPCJsk68dm40"
      },
      "outputs": [],
      "source": [
        "resnet_model.compile(optimizer='adam',loss='categorical_crossentropy',metrics=['accuracy'])"
      ]
    },
    {
      "cell_type": "code",
      "execution_count": 11,
      "metadata": {
        "colab": {
          "base_uri": "https://localhost:8080/"
        },
        "id": "wXEYsGTaeFi4",
        "outputId": "ba14bf64-138b-4a9d-a0e3-aed52402a34d"
      },
      "outputs": [
        {
          "name": "stdout",
          "output_type": "stream",
          "text": [
            "Epoch 1/30\n"
          ]
        },
        {
          "name": "stderr",
          "output_type": "stream",
          "text": [
            "2024-05-24 22:04:24.944218: W external/local_tsl/tsl/framework/cpu_allocator_impl.cc:83] Allocation of 205520896 exceeds 10% of free system memory.\n",
            "2024-05-24 22:04:25.064407: W external/local_tsl/tsl/framework/cpu_allocator_impl.cc:83] Allocation of 205520896 exceeds 10% of free system memory.\n",
            "2024-05-24 22:04:25.557215: W external/local_tsl/tsl/framework/cpu_allocator_impl.cc:83] Allocation of 205520896 exceeds 10% of free system memory.\n",
            "2024-05-24 22:04:25.731456: W external/local_tsl/tsl/framework/cpu_allocator_impl.cc:83] Allocation of 205520896 exceeds 10% of free system memory.\n",
            "2024-05-24 22:04:25.902309: W external/local_tsl/tsl/framework/cpu_allocator_impl.cc:83] Allocation of 205520896 exceeds 10% of free system memory.\n",
            "/home/fnilvu/Downloads/Proyek Skripsi/RoadCrack Flask/venv/lib/python3.11/site-packages/keras/src/trainers/data_adapters/py_dataset_adapter.py:121: UserWarning: Your `PyDataset` class should call `super().__init__(**kwargs)` in its constructor. `**kwargs` can include `workers`, `use_multiprocessing`, `max_queue_size`. Do not pass these arguments to `fit()`, as they will be ignored.\n",
            "  self._warn_if_super_not_called()\n",
            "WARNING: All log messages before absl::InitializeLog() is called are written to STDERR\n",
            "I0000 00:00:1716559478.436589  129222 service.cc:145] XLA service 0x76669c002bd0 initialized for platform CUDA (this does not guarantee that XLA will be used). Devices:\n",
            "I0000 00:00:1716559478.436630  129222 service.cc:153]   StreamExecutor device (0): NVIDIA GeForce GTX 950M, Compute Capability 5.0\n",
            "2024-05-24 22:04:38.860237: I tensorflow/compiler/mlir/tensorflow/utils/dump_mlir_util.cc:268] disabling MLIR crash reproducer, set env var `MLIR_CRASH_REPRODUCER_DIRECTORY` to enable.\n",
            "2024-05-24 22:04:40.719369: I external/local_xla/xla/stream_executor/cuda/cuda_dnn.cc:465] Loaded cuDNN version 8907\n",
            "I0000 00:00:1716559490.135283  129222 device_compiler.h:188] Compiled cluster using XLA!  This line is logged at most once for the lifetime of the process.\n"
          ]
        },
        {
          "name": "stdout",
          "output_type": "stream",
          "text": [
            "\u001b[1m132/132\u001b[0m \u001b[32m━━━━━━━━━━━━━━━━━━━━\u001b[0m\u001b[37m\u001b[0m \u001b[1m168s\u001b[0m 1s/step - accuracy: 0.4447 - loss: 7.7061 - val_accuracy: 0.7183 - val_loss: 0.7495\n",
            "Epoch 2/30\n",
            "\u001b[1m132/132\u001b[0m \u001b[32m━━━━━━━━━━━━━━━━━━━━\u001b[0m\u001b[37m\u001b[0m \u001b[1m107s\u001b[0m 774ms/step - accuracy: 0.6385 - loss: 0.9377 - val_accuracy: 0.6839 - val_loss: 0.8077\n",
            "Epoch 3/30\n",
            "\u001b[1m132/132\u001b[0m \u001b[32m━━━━━━━━━━━━━━━━━━━━\u001b[0m\u001b[37m\u001b[0m \u001b[1m106s\u001b[0m 767ms/step - accuracy: 0.6872 - loss: 0.8449 - val_accuracy: 0.6602 - val_loss: 0.8428\n",
            "Epoch 4/30\n",
            "\u001b[1m132/132\u001b[0m \u001b[32m━━━━━━━━━━━━━━━━━━━━\u001b[0m\u001b[37m\u001b[0m \u001b[1m123s\u001b[0m 889ms/step - accuracy: 0.7003 - loss: 0.7757 - val_accuracy: 0.7398 - val_loss: 0.7160\n",
            "Epoch 5/30\n",
            "\u001b[1m132/132\u001b[0m \u001b[32m━━━━━━━━━━━━━━━━━━━━\u001b[0m\u001b[37m\u001b[0m \u001b[1m137s\u001b[0m 984ms/step - accuracy: 0.7193 - loss: 0.7261 - val_accuracy: 0.7828 - val_loss: 0.6162\n",
            "Epoch 6/30\n",
            "\u001b[1m132/132\u001b[0m \u001b[32m━━━━━━━━━━━━━━━━━━━━\u001b[0m\u001b[37m\u001b[0m \u001b[1m138s\u001b[0m 997ms/step - accuracy: 0.7466 - loss: 0.6089 - val_accuracy: 0.6968 - val_loss: 0.8043\n",
            "Epoch 7/30\n",
            "\u001b[1m132/132\u001b[0m \u001b[32m━━━━━━━━━━━━━━━━━━━━\u001b[0m\u001b[37m\u001b[0m \u001b[1m135s\u001b[0m 976ms/step - accuracy: 0.7084 - loss: 0.7147 - val_accuracy: 0.6946 - val_loss: 0.7938\n",
            "Epoch 8/30\n",
            "\u001b[1m132/132\u001b[0m \u001b[32m━━━━━━━━━━━━━━━━━━━━\u001b[0m\u001b[37m\u001b[0m \u001b[1m133s\u001b[0m 963ms/step - accuracy: 0.7411 - loss: 0.6471 - val_accuracy: 0.7763 - val_loss: 0.6505\n",
            "Epoch 9/30\n",
            "\u001b[1m132/132\u001b[0m \u001b[32m━━━━━━━━━━━━━━━━━━━━\u001b[0m\u001b[37m\u001b[0m \u001b[1m111s\u001b[0m 798ms/step - accuracy: 0.7992 - loss: 0.5396 - val_accuracy: 0.5742 - val_loss: 1.1333\n",
            "Epoch 10/30\n",
            "\u001b[1m132/132\u001b[0m \u001b[32m━━━━━━━━━━━━━━━━━━━━\u001b[0m\u001b[37m\u001b[0m \u001b[1m110s\u001b[0m 796ms/step - accuracy: 0.7595 - loss: 0.6150 - val_accuracy: 0.7140 - val_loss: 0.7909\n",
            "Epoch 11/30\n",
            "\u001b[1m132/132\u001b[0m \u001b[32m━━━━━━━━━━━━━━━━━━━━\u001b[0m\u001b[37m\u001b[0m \u001b[1m117s\u001b[0m 850ms/step - accuracy: 0.7971 - loss: 0.5235 - val_accuracy: 0.7914 - val_loss: 0.5963\n",
            "Epoch 12/30\n",
            "\u001b[1m132/132\u001b[0m \u001b[32m━━━━━━━━━━━━━━━━━━━━\u001b[0m\u001b[37m\u001b[0m \u001b[1m106s\u001b[0m 754ms/step - accuracy: 0.7827 - loss: 0.5300 - val_accuracy: 0.7849 - val_loss: 0.6208\n",
            "Epoch 13/30\n",
            "\u001b[1m132/132\u001b[0m \u001b[32m━━━━━━━━━━━━━━━━━━━━\u001b[0m\u001b[37m\u001b[0m \u001b[1m104s\u001b[0m 744ms/step - accuracy: 0.8052 - loss: 0.5029 - val_accuracy: 0.7677 - val_loss: 0.6036\n",
            "Epoch 14/30\n",
            "\u001b[1m132/132\u001b[0m \u001b[32m━━━━━━━━━━━━━━━━━━━━\u001b[0m\u001b[37m\u001b[0m \u001b[1m108s\u001b[0m 787ms/step - accuracy: 0.8070 - loss: 0.4934 - val_accuracy: 0.6065 - val_loss: 1.0084\n",
            "Epoch 15/30\n",
            "\u001b[1m132/132\u001b[0m \u001b[32m━━━━━━━━━━━━━━━━━━━━\u001b[0m\u001b[37m\u001b[0m \u001b[1m123s\u001b[0m 885ms/step - accuracy: 0.7855 - loss: 0.5483 - val_accuracy: 0.7333 - val_loss: 0.6549\n",
            "Epoch 16/30\n",
            "\u001b[1m132/132\u001b[0m \u001b[32m━━━━━━━━━━━━━━━━━━━━\u001b[0m\u001b[37m\u001b[0m \u001b[1m125s\u001b[0m 905ms/step - accuracy: 0.7749 - loss: 0.5559 - val_accuracy: 0.6839 - val_loss: 0.8308\n",
            "Epoch 17/30\n",
            "\u001b[1m132/132\u001b[0m \u001b[32m━━━━━━━━━━━━━━━━━━━━\u001b[0m\u001b[37m\u001b[0m \u001b[1m122s\u001b[0m 878ms/step - accuracy: 0.7865 - loss: 0.5349 - val_accuracy: 0.7806 - val_loss: 0.5705\n",
            "Epoch 18/30\n",
            "\u001b[1m132/132\u001b[0m \u001b[32m━━━━━━━━━━━━━━━━━━━━\u001b[0m\u001b[37m\u001b[0m \u001b[1m120s\u001b[0m 865ms/step - accuracy: 0.7950 - loss: 0.5127 - val_accuracy: 0.7290 - val_loss: 0.7787\n",
            "Epoch 19/30\n",
            "\u001b[1m132/132\u001b[0m \u001b[32m━━━━━━━━━━━━━━━━━━━━\u001b[0m\u001b[37m\u001b[0m \u001b[1m127s\u001b[0m 916ms/step - accuracy: 0.7966 - loss: 0.5196 - val_accuracy: 0.7935 - val_loss: 0.6171\n",
            "Epoch 20/30\n",
            "\u001b[1m132/132\u001b[0m \u001b[32m━━━━━━━━━━━━━━━━━━━━\u001b[0m\u001b[37m\u001b[0m \u001b[1m134s\u001b[0m 971ms/step - accuracy: 0.8140 - loss: 0.4754 - val_accuracy: 0.7183 - val_loss: 0.7648\n",
            "Epoch 21/30\n",
            "\u001b[1m132/132\u001b[0m \u001b[32m━━━━━━━━━━━━━━━━━━━━\u001b[0m\u001b[37m\u001b[0m \u001b[1m133s\u001b[0m 964ms/step - accuracy: 0.8177 - loss: 0.4843 - val_accuracy: 0.7871 - val_loss: 0.5810\n",
            "Epoch 22/30\n",
            "\u001b[1m132/132\u001b[0m \u001b[32m━━━━━━━━━━━━━━━━━━━━\u001b[0m\u001b[37m\u001b[0m \u001b[1m122s\u001b[0m 872ms/step - accuracy: 0.8037 - loss: 0.4949 - val_accuracy: 0.7914 - val_loss: 0.6058\n",
            "Epoch 23/30\n",
            "\u001b[1m132/132\u001b[0m \u001b[32m━━━━━━━━━━━━━━━━━━━━\u001b[0m\u001b[37m\u001b[0m \u001b[1m150s\u001b[0m 1s/step - accuracy: 0.7971 - loss: 0.4982 - val_accuracy: 0.7613 - val_loss: 0.6575\n",
            "Epoch 24/30\n",
            "\u001b[1m132/132\u001b[0m \u001b[32m━━━━━━━━━━━━━━━━━━━━\u001b[0m\u001b[37m\u001b[0m \u001b[1m139s\u001b[0m 1s/step - accuracy: 0.8261 - loss: 0.4540 - val_accuracy: 0.7591 - val_loss: 0.6826\n",
            "Epoch 25/30\n",
            "\u001b[1m132/132\u001b[0m \u001b[32m━━━━━━━━━━━━━━━━━━━━\u001b[0m\u001b[37m\u001b[0m \u001b[1m138s\u001b[0m 979ms/step - accuracy: 0.8302 - loss: 0.4705 - val_accuracy: 0.7828 - val_loss: 0.6124\n",
            "Epoch 26/30\n",
            "\u001b[1m132/132\u001b[0m \u001b[32m━━━━━━━━━━━━━━━━━━━━\u001b[0m\u001b[37m\u001b[0m \u001b[1m134s\u001b[0m 958ms/step - accuracy: 0.8043 - loss: 0.4892 - val_accuracy: 0.7978 - val_loss: 0.6303\n",
            "Epoch 27/30\n",
            "\u001b[1m132/132\u001b[0m \u001b[32m━━━━━━━━━━━━━━━━━━━━\u001b[0m\u001b[37m\u001b[0m \u001b[1m152s\u001b[0m 1s/step - accuracy: 0.8224 - loss: 0.4785 - val_accuracy: 0.7892 - val_loss: 0.6370\n",
            "Epoch 28/30\n",
            "\u001b[1m132/132\u001b[0m \u001b[32m━━━━━━━━━━━━━━━━━━━━\u001b[0m\u001b[37m\u001b[0m \u001b[1m131s\u001b[0m 946ms/step - accuracy: 0.8116 - loss: 0.4786 - val_accuracy: 0.7140 - val_loss: 0.7962\n",
            "Epoch 29/30\n",
            "\u001b[1m132/132\u001b[0m \u001b[32m━━━━━━━━━━━━━━━━━━━━\u001b[0m\u001b[37m\u001b[0m \u001b[1m145s\u001b[0m 1s/step - accuracy: 0.7937 - loss: 0.5230 - val_accuracy: 0.7398 - val_loss: 0.7019\n",
            "Epoch 30/30\n",
            "\u001b[1m132/132\u001b[0m \u001b[32m━━━━━━━━━━━━━━━━━━━━\u001b[0m\u001b[37m\u001b[0m \u001b[1m146s\u001b[0m 1s/step - accuracy: 0.8307 - loss: 0.4458 - val_accuracy: 0.7097 - val_loss: 0.7816\n"
          ]
        }
      ],
      "source": [
        "epochs=30\n",
        "history = resnet_model.fit(\n",
        "  train_ds,\n",
        "  validation_data=val_ds,\n",
        "  epochs=epochs\n",
        ")"
      ]
    },
    {
      "cell_type": "markdown",
      "metadata": {
        "id": "ggs5y5NcgcAH"
      },
      "source": [
        "# Evaluating The Model"
      ]
    },
    {
      "cell_type": "code",
      "execution_count": 12,
      "metadata": {
        "colab": {
          "base_uri": "https://localhost:8080/",
          "height": 472
        },
        "id": "vAjGo1SvePCE",
        "outputId": "bbe95c30-94fb-43ec-f5b0-721b6bfcb6b2"
      },
      "outputs": [
        {
          "data": {
            "image/png": "[encoded data removed]",
            "text/plain": [
              "<Figure size 640x480 with 1 Axes>"
            ]
          },
          "metadata": {},
          "output_type": "display_data"
        }
      ],
      "source": [
        "fig1 = plt.gcf()\n",
        "plt.plot(history.history['accuracy'])\n",
        "plt.plot(history.history['val_accuracy'])\n",
        "plt.axis(ymin=0.4,ymax=1)\n",
        "plt.grid()\n",
        "plt.title('Model Accuracy')\n",
        "plt.ylabel('Accuracy')\n",
        "plt.xlabel('Epochs')\n",
        "plt.legend(['train', 'validation'])\n",
        "plt.show()"
      ]
    },
    {
      "cell_type": "code",
      "execution_count": 13,
      "metadata": {
        "colab": {
          "base_uri": "https://localhost:8080/",
          "height": 472
        },
        "id": "rEUy8LNOeCVF",
        "outputId": "160de0a7-7597-4095-eeff-8a4ab57cb7d8"
      },
      "outputs": [
        {
          "data": {
            "image/png": "[encoded data removed]",
            "text/plain": [
              "<Figure size 640x480 with 1 Axes>"
            ]
          },
          "metadata": {},
          "output_type": "display_data"
        }
      ],
      "source": [
        "plt.plot(history.history['loss'])\n",
        "plt.plot(history.history['val_loss'])\n",
        "plt.grid()\n",
        "plt.title('Model Loss')\n",
        "plt.ylabel('Loss')\n",
        "plt.xlabel('Epochs')\n",
        "plt.legend(['train', 'validation'])\n",
        "plt.show()"
      ]
    },
    {
      "cell_type": "markdown",
      "metadata": {
        "id": "dE5MsVdegXVj"
      },
      "source": [
        "# Making Predictions"
      ]
    },
    {
      "cell_type": "code",
      "execution_count": 14,
      "metadata": {
        "colab": {
          "base_uri": "https://localhost:8080/"
        },
        "id": "KCURoyOpemgA",
        "outputId": "fb12af54-12bb-44b6-a3ec-4e67fea057d7"
      },
      "outputs": [
        {
          "name": "stdout",
          "output_type": "stream",
          "text": [
            "(1, 224, 224, 3)\n"
          ]
        }
      ],
      "source": [
        "import cv2\n",
        "image=cv2.imread(\"preprocessed_images/val/good/Good_0002.jpg\")\n",
        "\n",
        "image_resized= cv2.resize(image, (img_height,img_width))\n",
        "image=np.expand_dims(image_resized,axis=0)\n",
        "print(image.shape)\n"
      ]
    },
    {
      "cell_type": "code",
      "execution_count": 15,
      "metadata": {
        "colab": {
          "base_uri": "https://localhost:8080/"
        },
        "id": "G1pSzemJe19G",
        "outputId": "9d2c77e0-34c3-4e75-a0ce-a7c0b8594b5c"
      },
      "outputs": [
        {
          "name": "stdout",
          "output_type": "stream",
          "text": [
            "\u001b[1m1/1\u001b[0m \u001b[32m━━━━━━━━━━━━━━━━━━━━\u001b[0m\u001b[37m\u001b[0m \u001b[1m8s\u001b[0m 8s/step\n",
            "[[9.9999940e-01 5.9602991e-07 1.9468186e-18]]\n"
          ]
        }
      ],
      "source": [
        "pred=resnet_model.predict(image)\n",
        "print(pred)"
      ]
    },
    {
      "cell_type": "code",
      "execution_count": 16,
      "metadata": {
        "colab": {
          "base_uri": "https://localhost:8080/"
        },
        "id": "iudnVH8yfpFH",
        "outputId": "b0c13ced-8255-4cbf-c7f9-14e4fb8f0657"
      },
      "outputs": [
        {
          "name": "stdout",
          "output_type": "stream",
          "text": [
            "The predicted class is crack\n"
          ]
        }
      ],
      "source": [
        "output_class=class_names[np.argmax(pred)]\n",
        "print(\"The predicted class is\", output_class)"
      ]
    },
    {
      "cell_type": "code",
      "execution_count": 17,
      "metadata": {},
      "outputs": [
        {
          "name": "stdout",
          "output_type": "stream",
          "text": [
            "INFO:tensorflow:Assets written to: road_crack/assets\n"
          ]
        },
        {
          "name": "stderr",
          "output_type": "stream",
          "text": [
            "INFO:tensorflow:Assets written to: road_crack/assets\n"
          ]
        },
        {
          "name": "stdout",
          "output_type": "stream",
          "text": [
            "Saved artifact at 'road_crack'. The following endpoints are available:\n",
            "\n",
            "* Endpoint 'serve'\n",
            "  args_0 (POSITIONAL_ONLY): TensorSpec(shape=(None, 224, 224, 3), dtype=tf.float32, name='keras_tensor_175')\n",
            "Output Type:\n",
            "  TensorSpec(shape=(None, 3), dtype=tf.float32, name=None)\n",
            "Captures:\n",
            "  130186902787824: TensorSpec(shape=(), dtype=tf.resource, name=None)\n",
            "  130186902788880: TensorSpec(shape=(), dtype=tf.resource, name=None)\n",
            "  130186902789056: TensorSpec(shape=(), dtype=tf.resource, name=None)\n",
            "  130186902789232: TensorSpec(shape=(), dtype=tf.resource, name=None)\n",
            "  130186902788528: TensorSpec(shape=(), dtype=tf.resource, name=None)\n",
            "  130186902788176: TensorSpec(shape=(), dtype=tf.resource, name=None)\n",
            "  130186902790816: TensorSpec(shape=(), dtype=tf.resource, name=None)\n",
            "  130186902791872: TensorSpec(shape=(), dtype=tf.resource, name=None)\n",
            "  130186902791168: TensorSpec(shape=(), dtype=tf.resource, name=None)\n",
            "  130186902792048: TensorSpec(shape=(), dtype=tf.resource, name=None)\n",
            "  130186902791696: TensorSpec(shape=(), dtype=tf.resource, name=None)\n",
            "  130186902791344: TensorSpec(shape=(), dtype=tf.resource, name=None)\n",
            "  130186902793456: TensorSpec(shape=(), dtype=tf.resource, name=None)\n",
            "  130186902794512: TensorSpec(shape=(), dtype=tf.resource, name=None)\n",
            "  130186902793808: TensorSpec(shape=(), dtype=tf.resource, name=None)\n",
            "  130186902794688: TensorSpec(shape=(), dtype=tf.resource, name=None)\n",
            "  130186902794336: TensorSpec(shape=(), dtype=tf.resource, name=None)\n",
            "  130186902793984: TensorSpec(shape=(), dtype=tf.resource, name=None)\n",
            "  130186902794160: TensorSpec(shape=(), dtype=tf.resource, name=None)\n",
            "  130186902795920: TensorSpec(shape=(), dtype=tf.resource, name=None)\n",
            "  130186902788000: TensorSpec(shape=(), dtype=tf.resource, name=None)\n",
            "  130186902790288: TensorSpec(shape=(), dtype=tf.resource, name=None)\n",
            "  130186902789936: TensorSpec(shape=(), dtype=tf.resource, name=None)\n",
            "  130186902789760: TensorSpec(shape=(), dtype=tf.resource, name=None)\n",
            "  130186902787296: TensorSpec(shape=(), dtype=tf.resource, name=None)\n",
            "  130186902790112: TensorSpec(shape=(), dtype=tf.resource, name=None)\n",
            "  130186902795568: TensorSpec(shape=(), dtype=tf.resource, name=None)\n",
            "  130186902795392: TensorSpec(shape=(), dtype=tf.resource, name=None)\n",
            "  130186902794864: TensorSpec(shape=(), dtype=tf.resource, name=None)\n",
            "  130186902795744: TensorSpec(shape=(), dtype=tf.resource, name=None)\n",
            "  130186902795040: TensorSpec(shape=(), dtype=tf.resource, name=None)\n",
            "  130186902796976: TensorSpec(shape=(), dtype=tf.resource, name=None)\n",
            "  130186902796272: TensorSpec(shape=(), dtype=tf.resource, name=None)\n",
            "  130186902797152: TensorSpec(shape=(), dtype=tf.resource, name=None)\n",
            "  130186902796800: TensorSpec(shape=(), dtype=tf.resource, name=None)\n",
            "  130186902796448: TensorSpec(shape=(), dtype=tf.resource, name=None)\n",
            "  130186902796624: TensorSpec(shape=(), dtype=tf.resource, name=None)\n",
            "  130186902797504: TensorSpec(shape=(), dtype=tf.resource, name=None)\n",
            "  130186902797680: TensorSpec(shape=(), dtype=tf.resource, name=None)\n",
            "  130186902797328: TensorSpec(shape=(), dtype=tf.resource, name=None)\n",
            "  130186902798032: TensorSpec(shape=(), dtype=tf.resource, name=None)\n",
            "  130186902797856: TensorSpec(shape=(), dtype=tf.resource, name=None)\n",
            "  130186813931760: TensorSpec(shape=(), dtype=tf.resource, name=None)\n",
            "  130186813932816: TensorSpec(shape=(), dtype=tf.resource, name=None)\n",
            "  130186813932464: TensorSpec(shape=(), dtype=tf.resource, name=None)\n",
            "  130186813932288: TensorSpec(shape=(), dtype=tf.resource, name=None)\n",
            "  130186813931584: TensorSpec(shape=(), dtype=tf.resource, name=None)\n",
            "  130186813932640: TensorSpec(shape=(), dtype=tf.resource, name=None)\n",
            "  130186813931936: TensorSpec(shape=(), dtype=tf.resource, name=None)\n",
            "  130186813933872: TensorSpec(shape=(), dtype=tf.resource, name=None)\n",
            "  130186813933520: TensorSpec(shape=(), dtype=tf.resource, name=None)\n",
            "  130186813933344: TensorSpec(shape=(), dtype=tf.resource, name=None)\n",
            "  130186813932112: TensorSpec(shape=(), dtype=tf.resource, name=None)\n",
            "  130186813933696: TensorSpec(shape=(), dtype=tf.resource, name=None)\n",
            "  130186813932992: TensorSpec(shape=(), dtype=tf.resource, name=None)\n",
            "  130186813934928: TensorSpec(shape=(), dtype=tf.resource, name=None)\n",
            "  130186813934576: TensorSpec(shape=(), dtype=tf.resource, name=None)\n",
            "  130186813934400: TensorSpec(shape=(), dtype=tf.resource, name=None)\n",
            "  130186813933168: TensorSpec(shape=(), dtype=tf.resource, name=None)\n",
            "  130186813934752: TensorSpec(shape=(), dtype=tf.resource, name=None)\n",
            "  130186813935104: TensorSpec(shape=(), dtype=tf.resource, name=None)\n",
            "  130186813936160: TensorSpec(shape=(), dtype=tf.resource, name=None)\n",
            "  130186813935808: TensorSpec(shape=(), dtype=tf.resource, name=None)\n",
            "  130186813935632: TensorSpec(shape=(), dtype=tf.resource, name=None)\n",
            "  130186813934048: TensorSpec(shape=(), dtype=tf.resource, name=None)\n",
            "  130186813935984: TensorSpec(shape=(), dtype=tf.resource, name=None)\n",
            "  130186813936512: TensorSpec(shape=(), dtype=tf.resource, name=None)\n",
            "  130186813938448: TensorSpec(shape=(), dtype=tf.resource, name=None)\n",
            "  130186813938096: TensorSpec(shape=(), dtype=tf.resource, name=None)\n",
            "  130186813937920: TensorSpec(shape=(), dtype=tf.resource, name=None)\n",
            "  130186813936688: TensorSpec(shape=(), dtype=tf.resource, name=None)\n",
            "  130186813938272: TensorSpec(shape=(), dtype=tf.resource, name=None)\n",
            "  130186813937568: TensorSpec(shape=(), dtype=tf.resource, name=None)\n",
            "  130186813939504: TensorSpec(shape=(), dtype=tf.resource, name=None)\n",
            "  130186813939152: TensorSpec(shape=(), dtype=tf.resource, name=None)\n",
            "  130186813938976: TensorSpec(shape=(), dtype=tf.resource, name=None)\n",
            "  130186813937744: TensorSpec(shape=(), dtype=tf.resource, name=None)\n",
            "  130186813939328: TensorSpec(shape=(), dtype=tf.resource, name=None)\n",
            "  130186813938624: TensorSpec(shape=(), dtype=tf.resource, name=None)\n",
            "  130186813940560: TensorSpec(shape=(), dtype=tf.resource, name=None)\n",
            "  130186813936336: TensorSpec(shape=(), dtype=tf.resource, name=None)\n",
            "  130186813937392: TensorSpec(shape=(), dtype=tf.resource, name=None)\n",
            "  130186813937040: TensorSpec(shape=(), dtype=tf.resource, name=None)\n",
            "  130186813936864: TensorSpec(shape=(), dtype=tf.resource, name=None)\n",
            "  130186813935280: TensorSpec(shape=(), dtype=tf.resource, name=None)\n",
            "  130186813937216: TensorSpec(shape=(), dtype=tf.resource, name=None)\n",
            "  130186813940208: TensorSpec(shape=(), dtype=tf.resource, name=None)\n",
            "  130186813940032: TensorSpec(shape=(), dtype=tf.resource, name=None)\n",
            "  130186813938800: TensorSpec(shape=(), dtype=tf.resource, name=None)\n",
            "  130186813940384: TensorSpec(shape=(), dtype=tf.resource, name=None)\n",
            "  130186813939680: TensorSpec(shape=(), dtype=tf.resource, name=None)\n",
            "  130186813941616: TensorSpec(shape=(), dtype=tf.resource, name=None)\n",
            "  130186813941264: TensorSpec(shape=(), dtype=tf.resource, name=None)\n",
            "  130186813941088: TensorSpec(shape=(), dtype=tf.resource, name=None)\n",
            "  130186813939856: TensorSpec(shape=(), dtype=tf.resource, name=None)\n",
            "  130186813941440: TensorSpec(shape=(), dtype=tf.resource, name=None)\n",
            "  130186813940736: TensorSpec(shape=(), dtype=tf.resource, name=None)\n",
            "  130186813942672: TensorSpec(shape=(), dtype=tf.resource, name=None)\n",
            "  130186813942320: TensorSpec(shape=(), dtype=tf.resource, name=None)\n",
            "  130186813942144: TensorSpec(shape=(), dtype=tf.resource, name=None)\n",
            "  130186813940912: TensorSpec(shape=(), dtype=tf.resource, name=None)\n",
            "  130186813942496: TensorSpec(shape=(), dtype=tf.resource, name=None)\n",
            "  130186813941792: TensorSpec(shape=(), dtype=tf.resource, name=None)\n",
            "  130186813943728: TensorSpec(shape=(), dtype=tf.resource, name=None)\n",
            "  130186813943376: TensorSpec(shape=(), dtype=tf.resource, name=None)\n",
            "  130186813943200: TensorSpec(shape=(), dtype=tf.resource, name=None)\n",
            "  130186813941968: TensorSpec(shape=(), dtype=tf.resource, name=None)\n",
            "  130186813943552: TensorSpec(shape=(), dtype=tf.resource, name=None)\n",
            "  130186813942848: TensorSpec(shape=(), dtype=tf.resource, name=None)\n",
            "  130186813944784: TensorSpec(shape=(), dtype=tf.resource, name=None)\n",
            "  130186813944432: TensorSpec(shape=(), dtype=tf.resource, name=None)\n",
            "  130186813944256: TensorSpec(shape=(), dtype=tf.resource, name=None)\n",
            "  130186813943024: TensorSpec(shape=(), dtype=tf.resource, name=None)\n",
            "  130186813944608: TensorSpec(shape=(), dtype=tf.resource, name=None)\n",
            "  130186813943904: TensorSpec(shape=(), dtype=tf.resource, name=None)\n",
            "  130186813945840: TensorSpec(shape=(), dtype=tf.resource, name=None)\n",
            "  130186813945488: TensorSpec(shape=(), dtype=tf.resource, name=None)\n",
            "  130186813945312: TensorSpec(shape=(), dtype=tf.resource, name=None)\n",
            "  130186813944080: TensorSpec(shape=(), dtype=tf.resource, name=None)\n",
            "  130186813945664: TensorSpec(shape=(), dtype=tf.resource, name=None)\n",
            "  130186813944960: TensorSpec(shape=(), dtype=tf.resource, name=None)\n",
            "  130186813946896: TensorSpec(shape=(), dtype=tf.resource, name=None)\n",
            "  130186813946544: TensorSpec(shape=(), dtype=tf.resource, name=None)\n",
            "  130186813946368: TensorSpec(shape=(), dtype=tf.resource, name=None)\n",
            "  130186813945136: TensorSpec(shape=(), dtype=tf.resource, name=None)\n",
            "  130186813946720: TensorSpec(shape=(), dtype=tf.resource, name=None)\n",
            "  130186813946016: TensorSpec(shape=(), dtype=tf.resource, name=None)\n",
            "  130186813947072: TensorSpec(shape=(), dtype=tf.resource, name=None)\n",
            "  130186813947248: TensorSpec(shape=(), dtype=tf.resource, name=None)\n",
            "  130186813946192: TensorSpec(shape=(), dtype=tf.resource, name=None)\n",
            "  130186813947600: TensorSpec(shape=(), dtype=tf.resource, name=None)\n",
            "  130186813947424: TensorSpec(shape=(), dtype=tf.resource, name=None)\n",
            "  130186699456752: TensorSpec(shape=(), dtype=tf.resource, name=None)\n",
            "  130186699457808: TensorSpec(shape=(), dtype=tf.resource, name=None)\n",
            "  130186699457456: TensorSpec(shape=(), dtype=tf.resource, name=None)\n",
            "  130186699457280: TensorSpec(shape=(), dtype=tf.resource, name=None)\n",
            "  130186699456576: TensorSpec(shape=(), dtype=tf.resource, name=None)\n",
            "  130186699457632: TensorSpec(shape=(), dtype=tf.resource, name=None)\n",
            "  130186699456928: TensorSpec(shape=(), dtype=tf.resource, name=None)\n",
            "  130186699458864: TensorSpec(shape=(), dtype=tf.resource, name=None)\n",
            "  130186699458512: TensorSpec(shape=(), dtype=tf.resource, name=None)\n",
            "  130186699458336: TensorSpec(shape=(), dtype=tf.resource, name=None)\n",
            "  130186699457104: TensorSpec(shape=(), dtype=tf.resource, name=None)\n",
            "  130186699458688: TensorSpec(shape=(), dtype=tf.resource, name=None)\n",
            "  130186699459040: TensorSpec(shape=(), dtype=tf.resource, name=None)\n",
            "  130186699460976: TensorSpec(shape=(), dtype=tf.resource, name=None)\n",
            "  130186699460624: TensorSpec(shape=(), dtype=tf.resource, name=None)\n",
            "  130186699460448: TensorSpec(shape=(), dtype=tf.resource, name=None)\n",
            "  130186699459216: TensorSpec(shape=(), dtype=tf.resource, name=None)\n",
            "  130186699460800: TensorSpec(shape=(), dtype=tf.resource, name=None)\n",
            "  130186699460096: TensorSpec(shape=(), dtype=tf.resource, name=None)\n",
            "  130186699462032: TensorSpec(shape=(), dtype=tf.resource, name=None)\n",
            "  130186699461680: TensorSpec(shape=(), dtype=tf.resource, name=None)\n",
            "  130186699461504: TensorSpec(shape=(), dtype=tf.resource, name=None)\n",
            "  130186699460272: TensorSpec(shape=(), dtype=tf.resource, name=None)\n",
            "  130186699461856: TensorSpec(shape=(), dtype=tf.resource, name=None)\n",
            "  130186699461152: TensorSpec(shape=(), dtype=tf.resource, name=None)\n",
            "  130186699463088: TensorSpec(shape=(), dtype=tf.resource, name=None)\n",
            "  130186699457984: TensorSpec(shape=(), dtype=tf.resource, name=None)\n",
            "  130186699459920: TensorSpec(shape=(), dtype=tf.resource, name=None)\n",
            "  130186699459568: TensorSpec(shape=(), dtype=tf.resource, name=None)\n",
            "  130186699459392: TensorSpec(shape=(), dtype=tf.resource, name=None)\n",
            "  130186699458160: TensorSpec(shape=(), dtype=tf.resource, name=None)\n",
            "  130186699459744: TensorSpec(shape=(), dtype=tf.resource, name=None)\n",
            "  130186699462736: TensorSpec(shape=(), dtype=tf.resource, name=None)\n",
            "  130186699462560: TensorSpec(shape=(), dtype=tf.resource, name=None)\n",
            "  130186699461328: TensorSpec(shape=(), dtype=tf.resource, name=None)\n",
            "  130186699462912: TensorSpec(shape=(), dtype=tf.resource, name=None)\n",
            "  130186699462208: TensorSpec(shape=(), dtype=tf.resource, name=None)\n",
            "  130186699464144: TensorSpec(shape=(), dtype=tf.resource, name=None)\n",
            "  130186699463792: TensorSpec(shape=(), dtype=tf.resource, name=None)\n",
            "  130186699463616: TensorSpec(shape=(), dtype=tf.resource, name=None)\n",
            "  130186699462384: TensorSpec(shape=(), dtype=tf.resource, name=None)\n",
            "  130186699463968: TensorSpec(shape=(), dtype=tf.resource, name=None)\n",
            "  130186699463264: TensorSpec(shape=(), dtype=tf.resource, name=None)\n",
            "  130186699465200: TensorSpec(shape=(), dtype=tf.resource, name=None)\n",
            "  130186699464848: TensorSpec(shape=(), dtype=tf.resource, name=None)\n",
            "  130186699464672: TensorSpec(shape=(), dtype=tf.resource, name=None)\n",
            "  130186699463440: TensorSpec(shape=(), dtype=tf.resource, name=None)\n",
            "  130186699465024: TensorSpec(shape=(), dtype=tf.resource, name=None)\n",
            "  130186699464320: TensorSpec(shape=(), dtype=tf.resource, name=None)\n",
            "  130186699466256: TensorSpec(shape=(), dtype=tf.resource, name=None)\n",
            "  130186699465904: TensorSpec(shape=(), dtype=tf.resource, name=None)\n",
            "  130186699465728: TensorSpec(shape=(), dtype=tf.resource, name=None)\n",
            "  130186699464496: TensorSpec(shape=(), dtype=tf.resource, name=None)\n",
            "  130186699466080: TensorSpec(shape=(), dtype=tf.resource, name=None)\n",
            "  130186699465376: TensorSpec(shape=(), dtype=tf.resource, name=None)\n",
            "  130186699467312: TensorSpec(shape=(), dtype=tf.resource, name=None)\n",
            "  130186699466960: TensorSpec(shape=(), dtype=tf.resource, name=None)\n",
            "  130186699466784: TensorSpec(shape=(), dtype=tf.resource, name=None)\n",
            "  130186699465552: TensorSpec(shape=(), dtype=tf.resource, name=None)\n",
            "  130186699467136: TensorSpec(shape=(), dtype=tf.resource, name=None)\n",
            "  130186699466432: TensorSpec(shape=(), dtype=tf.resource, name=None)\n",
            "  130186699468368: TensorSpec(shape=(), dtype=tf.resource, name=None)\n",
            "  130186699468016: TensorSpec(shape=(), dtype=tf.resource, name=None)\n",
            "  130186699467840: TensorSpec(shape=(), dtype=tf.resource, name=None)\n",
            "  130186699466608: TensorSpec(shape=(), dtype=tf.resource, name=None)\n",
            "  130186699468192: TensorSpec(shape=(), dtype=tf.resource, name=None)\n",
            "  130186699467488: TensorSpec(shape=(), dtype=tf.resource, name=None)\n",
            "  130186699469424: TensorSpec(shape=(), dtype=tf.resource, name=None)\n",
            "  130186699469072: TensorSpec(shape=(), dtype=tf.resource, name=None)\n",
            "  130186699468896: TensorSpec(shape=(), dtype=tf.resource, name=None)\n",
            "  130186699467664: TensorSpec(shape=(), dtype=tf.resource, name=None)\n",
            "  130186699469248: TensorSpec(shape=(), dtype=tf.resource, name=None)\n",
            "  130186699468544: TensorSpec(shape=(), dtype=tf.resource, name=None)\n",
            "  130186699470480: TensorSpec(shape=(), dtype=tf.resource, name=None)\n",
            "  130186699470128: TensorSpec(shape=(), dtype=tf.resource, name=None)\n",
            "  130186699469952: TensorSpec(shape=(), dtype=tf.resource, name=None)\n",
            "  130186699468720: TensorSpec(shape=(), dtype=tf.resource, name=None)\n",
            "  130186699470304: TensorSpec(shape=(), dtype=tf.resource, name=None)\n",
            "  130186699469600: TensorSpec(shape=(), dtype=tf.resource, name=None)\n",
            "  130186699471536: TensorSpec(shape=(), dtype=tf.resource, name=None)\n",
            "  130186699471184: TensorSpec(shape=(), dtype=tf.resource, name=None)\n",
            "  130186699471008: TensorSpec(shape=(), dtype=tf.resource, name=None)\n",
            "  130186699469776: TensorSpec(shape=(), dtype=tf.resource, name=None)\n",
            "  130186699471360: TensorSpec(shape=(), dtype=tf.resource, name=None)\n",
            "  130186699470656: TensorSpec(shape=(), dtype=tf.resource, name=None)\n",
            "  130186699472592: TensorSpec(shape=(), dtype=tf.resource, name=None)\n",
            "  130186699472240: TensorSpec(shape=(), dtype=tf.resource, name=None)\n",
            "  130186699472064: TensorSpec(shape=(), dtype=tf.resource, name=None)\n",
            "  130186699470832: TensorSpec(shape=(), dtype=tf.resource, name=None)\n",
            "  130186699472416: TensorSpec(shape=(), dtype=tf.resource, name=None)\n",
            "  130186699471712: TensorSpec(shape=(), dtype=tf.resource, name=None)\n",
            "  130186699471888: TensorSpec(shape=(), dtype=tf.resource, name=None)\n",
            "  130186698179152: TensorSpec(shape=(), dtype=tf.resource, name=None)\n",
            "  130186698178976: TensorSpec(shape=(), dtype=tf.resource, name=None)\n",
            "  130186698178624: TensorSpec(shape=(), dtype=tf.resource, name=None)\n",
            "  130186698179328: TensorSpec(shape=(), dtype=tf.resource, name=None)\n",
            "  130186698179504: TensorSpec(shape=(), dtype=tf.resource, name=None)\n",
            "  130186698180560: TensorSpec(shape=(), dtype=tf.resource, name=None)\n",
            "  130186698180208: TensorSpec(shape=(), dtype=tf.resource, name=None)\n",
            "  130186698180032: TensorSpec(shape=(), dtype=tf.resource, name=None)\n",
            "  130186698178800: TensorSpec(shape=(), dtype=tf.resource, name=None)\n",
            "  130186698180384: TensorSpec(shape=(), dtype=tf.resource, name=None)\n",
            "  130186698179680: TensorSpec(shape=(), dtype=tf.resource, name=None)\n",
            "  130186698181616: TensorSpec(shape=(), dtype=tf.resource, name=None)\n",
            "  130186698181264: TensorSpec(shape=(), dtype=tf.resource, name=None)\n",
            "  130186698181088: TensorSpec(shape=(), dtype=tf.resource, name=None)\n",
            "  130186698179856: TensorSpec(shape=(), dtype=tf.resource, name=None)\n",
            "  130186698181440: TensorSpec(shape=(), dtype=tf.resource, name=None)\n",
            "  130186698180736: TensorSpec(shape=(), dtype=tf.resource, name=None)\n",
            "  130186698182672: TensorSpec(shape=(), dtype=tf.resource, name=None)\n",
            "  130186698182320: TensorSpec(shape=(), dtype=tf.resource, name=None)\n",
            "  130186698182144: TensorSpec(shape=(), dtype=tf.resource, name=None)\n",
            "  130186698180912: TensorSpec(shape=(), dtype=tf.resource, name=None)\n",
            "  130186698182496: TensorSpec(shape=(), dtype=tf.resource, name=None)\n",
            "  130186698181792: TensorSpec(shape=(), dtype=tf.resource, name=None)\n",
            "  130186698183728: TensorSpec(shape=(), dtype=tf.resource, name=None)\n",
            "  130186698183376: TensorSpec(shape=(), dtype=tf.resource, name=None)\n",
            "  130186698183200: TensorSpec(shape=(), dtype=tf.resource, name=None)\n",
            "  130186698181968: TensorSpec(shape=(), dtype=tf.resource, name=None)\n",
            "  130186698183552: TensorSpec(shape=(), dtype=tf.resource, name=None)\n",
            "  130186698182848: TensorSpec(shape=(), dtype=tf.resource, name=None)\n",
            "  130186698184784: TensorSpec(shape=(), dtype=tf.resource, name=None)\n",
            "  130186698184432: TensorSpec(shape=(), dtype=tf.resource, name=None)\n",
            "  130186698184256: TensorSpec(shape=(), dtype=tf.resource, name=None)\n",
            "  130186698183024: TensorSpec(shape=(), dtype=tf.resource, name=None)\n",
            "  130186698184608: TensorSpec(shape=(), dtype=tf.resource, name=None)\n",
            "  130186698184960: TensorSpec(shape=(), dtype=tf.resource, name=None)\n",
            "  130186698186896: TensorSpec(shape=(), dtype=tf.resource, name=None)\n",
            "  130186698186544: TensorSpec(shape=(), dtype=tf.resource, name=None)\n",
            "  130186698186368: TensorSpec(shape=(), dtype=tf.resource, name=None)\n",
            "  130186698185136: TensorSpec(shape=(), dtype=tf.resource, name=None)\n",
            "  130186698186720: TensorSpec(shape=(), dtype=tf.resource, name=None)\n",
            "  130186698186016: TensorSpec(shape=(), dtype=tf.resource, name=None)\n",
            "  130186698187952: TensorSpec(shape=(), dtype=tf.resource, name=None)\n",
            "  130186698187600: TensorSpec(shape=(), dtype=tf.resource, name=None)\n",
            "  130186698187424: TensorSpec(shape=(), dtype=tf.resource, name=None)\n",
            "  130186698186192: TensorSpec(shape=(), dtype=tf.resource, name=None)\n",
            "  130186698187776: TensorSpec(shape=(), dtype=tf.resource, name=None)\n",
            "  130186698187072: TensorSpec(shape=(), dtype=tf.resource, name=None)\n",
            "  130186698189008: TensorSpec(shape=(), dtype=tf.resource, name=None)\n",
            "  130186698183904: TensorSpec(shape=(), dtype=tf.resource, name=None)\n",
            "  130186698185840: TensorSpec(shape=(), dtype=tf.resource, name=None)\n",
            "  130186698185488: TensorSpec(shape=(), dtype=tf.resource, name=None)\n",
            "  130186698185312: TensorSpec(shape=(), dtype=tf.resource, name=None)\n",
            "  130186698184080: TensorSpec(shape=(), dtype=tf.resource, name=None)\n",
            "  130186698185664: TensorSpec(shape=(), dtype=tf.resource, name=None)\n",
            "  130186698188656: TensorSpec(shape=(), dtype=tf.resource, name=None)\n",
            "  130186698188480: TensorSpec(shape=(), dtype=tf.resource, name=None)\n",
            "  130186698187248: TensorSpec(shape=(), dtype=tf.resource, name=None)\n",
            "  130186698188832: TensorSpec(shape=(), dtype=tf.resource, name=None)\n",
            "  130186698188128: TensorSpec(shape=(), dtype=tf.resource, name=None)\n",
            "  130186698190064: TensorSpec(shape=(), dtype=tf.resource, name=None)\n",
            "  130186698189712: TensorSpec(shape=(), dtype=tf.resource, name=None)\n",
            "  130186698189536: TensorSpec(shape=(), dtype=tf.resource, name=None)\n",
            "  130186698188304: TensorSpec(shape=(), dtype=tf.resource, name=None)\n",
            "  130186698189888: TensorSpec(shape=(), dtype=tf.resource, name=None)\n",
            "  130186698189184: TensorSpec(shape=(), dtype=tf.resource, name=None)\n",
            "  130186698191120: TensorSpec(shape=(), dtype=tf.resource, name=None)\n",
            "  130186698190768: TensorSpec(shape=(), dtype=tf.resource, name=None)\n",
            "  130186698190592: TensorSpec(shape=(), dtype=tf.resource, name=None)\n",
            "  130186698189360: TensorSpec(shape=(), dtype=tf.resource, name=None)\n",
            "  130186698190944: TensorSpec(shape=(), dtype=tf.resource, name=None)\n",
            "  130186698190240: TensorSpec(shape=(), dtype=tf.resource, name=None)\n",
            "  130186698192176: TensorSpec(shape=(), dtype=tf.resource, name=None)\n",
            "  130186698191824: TensorSpec(shape=(), dtype=tf.resource, name=None)\n",
            "  130186698191648: TensorSpec(shape=(), dtype=tf.resource, name=None)\n",
            "  130186698190416: TensorSpec(shape=(), dtype=tf.resource, name=None)\n",
            "  130186698192000: TensorSpec(shape=(), dtype=tf.resource, name=None)\n",
            "  130186698191296: TensorSpec(shape=(), dtype=tf.resource, name=None)\n",
            "  130186698193232: TensorSpec(shape=(), dtype=tf.resource, name=None)\n",
            "  130186698192880: TensorSpec(shape=(), dtype=tf.resource, name=None)\n",
            "  130186698192704: TensorSpec(shape=(), dtype=tf.resource, name=None)\n",
            "  130186698191472: TensorSpec(shape=(), dtype=tf.resource, name=None)\n",
            "  130186698193056: TensorSpec(shape=(), dtype=tf.resource, name=None)\n",
            "  130186698192352: TensorSpec(shape=(), dtype=tf.resource, name=None)\n",
            "  130186698194288: TensorSpec(shape=(), dtype=tf.resource, name=None)\n",
            "  130186698193936: TensorSpec(shape=(), dtype=tf.resource, name=None)\n",
            "  130186698193760: TensorSpec(shape=(), dtype=tf.resource, name=None)\n",
            "  130186698192528: TensorSpec(shape=(), dtype=tf.resource, name=None)\n",
            "  130186698194112: TensorSpec(shape=(), dtype=tf.resource, name=None)\n",
            "  130186698193408: TensorSpec(shape=(), dtype=tf.resource, name=None)\n",
            "  130186698194464: TensorSpec(shape=(), dtype=tf.resource, name=None)\n",
            "  130186640310512: TensorSpec(shape=(), dtype=tf.resource, name=None)\n",
            "  130186640310688: TensorSpec(shape=(), dtype=tf.resource, name=None)\n",
            "  130186698194640: TensorSpec(shape=(), dtype=tf.resource, name=None)\n",
            "  130186698193584: TensorSpec(shape=(), dtype=tf.resource, name=None)\n",
            "  130186638171248: TensorSpec(shape=(), dtype=tf.resource, name=None)\n",
            "  130186638171424: TensorSpec(shape=(), dtype=tf.resource, name=None)\n",
            "  130186638172128: TensorSpec(shape=(), dtype=tf.resource, name=None)\n",
            "  130186638172304: TensorSpec(shape=(), dtype=tf.resource, name=None)\n"
          ]
        }
      ],
      "source": [
        "# save as directory\n",
        "resnet_model.export('road_crack')"
      ]
    },
    {
      "cell_type": "code",
      "execution_count": 20,
      "metadata": {},
      "outputs": [
        {
          "name": "stdout",
          "output_type": "stream",
          "text": [
            "INFO:tensorflow:Assets written to: /tmp/tmpzj5i0rv7/assets\n"
          ]
        },
        {
          "name": "stderr",
          "output_type": "stream",
          "text": [
            "INFO:tensorflow:Assets written to: /tmp/tmpzj5i0rv7/assets\n"
          ]
        },
        {
          "ename": "",
          "evalue": "",
          "output_type": "error",
          "traceback": [
            "\u001b[1;31mThe Kernel crashed while executing code in the current cell or a previous cell. \n",
            "\u001b[1;31mPlease review the code in the cell(s) to identify a possible cause of the failure. \n",
            "\u001b[1;31mClick <a href='https://aka.ms/vscodeJupyterKernelCrash'>here</a> for more info. \n",
            "\u001b[1;31mView Jupyter <a href='command:jupyter.viewOutput'>log</a> for further details."
          ]
        }
      ],
      "source": [
        "# Convert the model to TensorFlow Lite format\n",
        "converter = tf.lite.TFLiteConverter.from_keras_model(resnet_model)\n",
        "tflite_model = converter.convert()\n",
        "\n",
        "# Save the TensorFlow Lite model to a file\n",
        "with open(\"road_crack.tflite\", \"wb\") as f:\n",
        "    f.write(tflite_model)"
      ]
    }
  ],
  "metadata": {
    "accelerator": "GPU",
    "colab": {
      "provenance": []
    },
    "kernelspec": {
      "display_name": "Python 3",
      "name": "python3"
    },
    "language_info": {
      "codemirror_mode": {
        "name": "ipython",
        "version": 3
      },
      "file_extension": ".py",
      "mimetype": "text/x-python",
      "name": "python",
      "nbconvert_exporter": "python",
      "pygments_lexer": "ipython3",
      "version": "3.11.9"
    }
  },
  "nbformat": 4,
  "nbformat_minor": 0
}
